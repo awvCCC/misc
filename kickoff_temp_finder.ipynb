{
 "cells": [
  {
   "cell_type": "code",
   "execution_count": 65,
   "metadata": {},
   "outputs": [],
   "source": [
    "import os\n",
    "import urllib\n",
    "import pandas as pd"
   ]
  },
  {
   "cell_type": "code",
   "execution_count": 66,
   "metadata": {},
   "outputs": [],
   "source": [
    "path = r'C:\\Users\\student\\Documents\\Alistair CoAgMET Projects\\kickoff_temps'\n",
    "os.chdir(path)\n",
    "\n",
    "csv = (path + r'\\csv.csv')\n",
    "\n",
    "kickoff_times = pd.read_csv(r\"C:\\Users\\student\\Documents\\Alistair CoAgMET Projects\" + \n",
    "                            r\"\\kickoff_temps\\all_home_games_w_times02-14-2020.csv\")"
   ]
  },
  {
   "cell_type": "code",
   "execution_count": 67,
   "metadata": {},
   "outputs": [],
   "source": [
    "urllib.request.urlretrieve('https://coagmet.colostate.edu/cgi-bin/web_services.pl?' + \n",
    "                          'type=five_minute' + \n",
    "                          '&sids=fcc01' + \n",
    "                          '&sdate=2000-01-01' + \n",
    "                          '&edate=2016-12-31' + \n",
    "                          '&elems=tmean',filename=csv)\n",
    "\n",
    "foothills_temps = pd.read_csv(csv)\n",
    "foothills_temps = foothills_temps.reset_index()"
   ]
  },
  {
   "cell_type": "code",
   "execution_count": 68,
   "metadata": {},
   "outputs": [],
   "source": [
    "urllib.request.urlretrieve('https://coagmet.colostate.edu/cgi-bin/web_services.pl?' + \n",
    "                          'type=five_minute' + \n",
    "                          '&sids=fcl01' + \n",
    "                          '&sdate=2017-01-01' + \n",
    "                          '&edate=2019-12-31' + \n",
    "                          '&elems=tmean',filename=csv)\n",
    "\n",
    "campus_temps = pd.read_csv(csv)\n",
    "campus_temps = campus_temps.reset_index()"
   ]
  },
  {
   "cell_type": "code",
   "execution_count": 69,
   "metadata": {},
   "outputs": [],
   "source": [
    "frames = [foothills_temps,campus_temps]\n",
    "\n",
    "temps = pd.concat(frames)"
   ]
  },
  {
   "cell_type": "code",
   "execution_count": 70,
   "metadata": {},
   "outputs": [],
   "source": [
    "temp_columns = ['station','date','temp']\n",
    "temps.columns = temp_columns"
   ]
  },
  {
   "cell_type": "code",
   "execution_count": 71,
   "metadata": {},
   "outputs": [],
   "source": [
    "temps['datetime'] = pd.to_datetime(temps.date)"
   ]
  },
  {
   "cell_type": "code",
   "execution_count": 72,
   "metadata": {},
   "outputs": [],
   "source": [
    "#stuff = ['station','temp','datetime']\n",
    "#temps = temps[stuff]"
   ]
  },
  {
   "cell_type": "code",
   "execution_count": 73,
   "metadata": {},
   "outputs": [],
   "source": [
    "temps = temps.set_index(temps.datetime)"
   ]
  },
  {
   "cell_type": "code",
   "execution_count": 74,
   "metadata": {},
   "outputs": [],
   "source": [
    "kickoff_times.TIME.astype(str)\n",
    "kickoff_times.DATE.astype(str)\n",
    "kickoff_times['datetime'] = kickoff_times['TIME'] + ' ' + kickoff_times['DATE']"
   ]
  },
  {
   "cell_type": "code",
   "execution_count": 75,
   "metadata": {},
   "outputs": [],
   "source": [
    "stuff = ['Location','datetime']\n",
    "kickoff_times = kickoff_times[stuff]"
   ]
  },
  {
   "cell_type": "code",
   "execution_count": 76,
   "metadata": {},
   "outputs": [],
   "source": [
    "kickoff_times['datetime'] = pd.to_datetime(kickoff_times.datetime)"
   ]
  },
  {
   "cell_type": "code",
   "execution_count": 77,
   "metadata": {},
   "outputs": [],
   "source": [
    "kickoff_times = kickoff_times.set_index(kickoff_times.datetime)"
   ]
  },
  {
   "cell_type": "code",
   "execution_count": 82,
   "metadata": {},
   "outputs": [],
   "source": [
    "temps_n_times = [temps,kickoff_times]\n",
    "kickoff_temps = pd.merge(kickoff_times,temps,how='inner',left_on=kickoff_times.index,\n",
    "                        right_on=temps.index)"
   ]
  },
  {
   "cell_type": "code",
   "execution_count": 85,
   "metadata": {},
   "outputs": [],
   "source": [
    "kickoff_temps.to_csv(path + r'\\kickoff_temps.csv')"
   ]
  },
  {
   "cell_type": "code",
   "execution_count": null,
   "metadata": {},
   "outputs": [],
   "source": []
  }
 ],
 "metadata": {
  "kernelspec": {
   "display_name": "Python 3",
   "language": "python",
   "name": "python3"
  },
  "toc": {
   "base_numbering": 1,
   "nav_menu": {},
   "number_sections": true,
   "sideBar": true,
   "skip_h1_title": false,
   "title_cell": "Table of Contents",
   "title_sidebar": "Contents",
   "toc_cell": false,
   "toc_position": {},
   "toc_section_display": true,
   "toc_window_display": false
  },
  "varInspector": {
   "cols": {
    "lenName": 16,
    "lenType": 16,
    "lenVar": 40
   },
   "kernels_config": {
    "python": {
     "delete_cmd_postfix": "",
     "delete_cmd_prefix": "del ",
     "library": "var_list.py",
     "varRefreshCmd": "print(var_dic_list())"
    },
    "r": {
     "delete_cmd_postfix": ") ",
     "delete_cmd_prefix": "rm(",
     "library": "var_list.r",
     "varRefreshCmd": "cat(var_dic_list()) "
    }
   },
   "types_to_exclude": [
    "module",
    "function",
    "builtin_function_or_method",
    "instance",
    "_Feature"
   ],
   "window_display": false
  }
 },
 "nbformat": 4,
 "nbformat_minor": 2
}
